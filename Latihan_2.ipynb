{
 "cells": [
  {
   "cell_type": "code",
   "execution_count": 2,
   "metadata": {},
   "outputs": [],
   "source": [
    "import numpy as np"
   ]
  },
  {
   "cell_type": "markdown",
   "metadata": {},
   "source": [
    "# 2D"
   ]
  },
  {
   "cell_type": "code",
   "execution_count": 3,
   "metadata": {},
   "outputs": [
    {
     "name": "stdout",
     "output_type": "stream",
     "text": [
      "[[5 3 7 5 5]\n",
      " [5 6 4 7 8]\n",
      " [3 4 2 6 3]\n",
      " [9 8 6 3 9]\n",
      " [5 3 3 6 3]]\n"
     ]
    }
   ],
   "source": [
    "base_1 = np.random.randint(10, size = (5, 5))\n",
    "print(base_1)"
   ]
  },
  {
   "cell_type": "code",
   "execution_count": 4,
   "metadata": {},
   "outputs": [
    {
     "name": "stdout",
     "output_type": "stream",
     "text": [
      "2\n"
     ]
    }
   ],
   "source": [
    "print(base_1[2, 2]) # row, column"
   ]
  },
  {
   "cell_type": "code",
   "execution_count": 5,
   "metadata": {},
   "outputs": [
    {
     "name": "stdout",
     "output_type": "stream",
     "text": [
      "[2 6 3]\n"
     ]
    }
   ],
   "source": [
    "print(base_1[2, 2:5])"
   ]
  },
  {
   "cell_type": "markdown",
   "metadata": {},
   "source": [
    "# 3D"
   ]
  },
  {
   "cell_type": "code",
   "execution_count": 6,
   "metadata": {},
   "outputs": [
    {
     "name": "stdout",
     "output_type": "stream",
     "text": [
      "[[[8 3 3 2 4]\n",
      "  [4 4 0 9 7]\n",
      "  [0 4 3 7 8]\n",
      "  [0 9 6 7 7]\n",
      "  [2 1 2 7 9]]\n",
      "\n",
      " [[1 3 1 0 7]\n",
      "  [4 3 5 7 3]\n",
      "  [1 6 8 2 2]\n",
      "  [7 0 8 5 5]\n",
      "  [7 7 8 2 2]]\n",
      "\n",
      " [[0 8 5 4 0]\n",
      "  [0 3 0 5 8]\n",
      "  [0 3 0 9 8]\n",
      "  [4 1 9 0 6]\n",
      "  [4 9 9 1 8]]]\n"
     ]
    }
   ],
   "source": [
    "base_2 = np.random.randint(10, size = (3, 5, 5))\n",
    "print(base_2)"
   ]
  },
  {
   "cell_type": "code",
   "execution_count": 7,
   "metadata": {},
   "outputs": [
    {
     "name": "stdout",
     "output_type": "stream",
     "text": [
      "9\n"
     ]
    }
   ],
   "source": [
    "print(base_2[0, 1, 3]) # grup besar, row, column"
   ]
  },
  {
   "cell_type": "code",
   "execution_count": 8,
   "metadata": {},
   "outputs": [
    {
     "name": "stdout",
     "output_type": "stream",
     "text": [
      "[[[8 3 3 2 4]\n",
      "  [0 4 3 7 8]]\n",
      "\n",
      " [[1 3 1 0 7]\n",
      "  [1 6 8 2 2]]\n",
      "\n",
      " [[0 8 5 4 0]\n",
      "  [0 3 0 9 8]]]\n"
     ]
    }
   ],
   "source": [
    "print(base_2[:, [0, 2]])"
   ]
  },
  {
   "cell_type": "markdown",
   "metadata": {},
   "source": [
    "# Soal"
   ]
  },
  {
   "cell_type": "markdown",
   "metadata": {},
   "source": [
    "## Specifics"
   ]
  },
  {
   "cell_type": "code",
   "execution_count": 9,
   "metadata": {},
   "outputs": [
    {
     "name": "stdout",
     "output_type": "stream",
     "text": [
      "[[5 8 4 4 3]\n",
      " [7 8 6 8 9]\n",
      " [5 3 2 8 2]\n",
      " [1 6 1 9 5]\n",
      " [6 1 5 5 5]]\n",
      "5\n"
     ]
    }
   ],
   "source": [
    "soal_a = np.random.randint(10, size = (5, 5))\n",
    "print(soal_a)\n",
    "print(soal_a[2, 0])"
   ]
  },
  {
   "cell_type": "code",
   "execution_count": 10,
   "metadata": {},
   "outputs": [
    {
     "name": "stdout",
     "output_type": "stream",
     "text": [
      "[[1 6 4 9 9]\n",
      " [1 3 4 0 7]\n",
      " [8 5 2 8 7]\n",
      " [8 4 2 2 4]\n",
      " [9 8 1 0 9]]\n",
      "[8 5 2]\n",
      "[2 8 7]\n"
     ]
    }
   ],
   "source": [
    "soal_b = np.random.randint(10, size = (5, 5))\n",
    "print(soal_b)\n",
    "print(soal_b[2, 0:3])\n",
    "print(soal_b[2, 2:5])"
   ]
  },
  {
   "cell_type": "code",
   "execution_count": 11,
   "metadata": {},
   "outputs": [
    {
     "name": "stdout",
     "output_type": "stream",
     "text": [
      "[[[2 9 8 3 7]\n",
      "  [2 1 3 8 0]\n",
      "  [6 8 0 6 4]\n",
      "  [3 9 0 5 3]\n",
      "  [1 2 4 4 3]]\n",
      "\n",
      " [[5 3 5 2 9]\n",
      "  [9 3 0 7 9]\n",
      "  [7 5 4 4 0]\n",
      "  [3 6 2 5 9]\n",
      "  [0 6 2 6 0]]] \n",
      "\n",
      "[[2 1 3]\n",
      " [9 3 0]] \n",
      " [[3 8 0]\n",
      " [0 7 9]]\n"
     ]
    }
   ],
   "source": [
    "soal_c = np.random.randint(10, size = (2, 5, 5))\n",
    "print(soal_c, \"\\n\")\n",
    "print(soal_c[:, 1, 0:3],\"\\n\", soal_c[:, 1, 2:5])"
   ]
  },
  {
   "cell_type": "code",
   "execution_count": 12,
   "metadata": {},
   "outputs": [
    {
     "name": "stdout",
     "output_type": "stream",
     "text": [
      "[[1 1 1 1 1]\n",
      " [1 2 2 2 1]\n",
      " [1 2 3 2 1]\n",
      " [1 2 2 2 1]\n",
      " [1 1 1 1 1]]\n",
      "[[1 1 1 1 1]\n",
      " [1 2 2 2 1]\n",
      " [1 2 3 2 1]\n",
      " [1 2 2 2 1]\n",
      " [1 1 1 1 1]]\n"
     ]
    }
   ],
   "source": [
    "soal_d = np.array([[1, 1, 1, 1, 1],\n",
    "                  [1, 2, 2, 2, 1],\n",
    "                  [1, 2, 3, 2, 1],\n",
    "                  [1, 2, 2, 2, 1],\n",
    "                  [1, 1, 1, 1, 1]])\n",
    "print(soal_d)\n",
    "\n",
    "one = np.ones((5, 5), dtype = 'int32')\n",
    "two = np.full((3, 3), 2, dtype = 'int32')\n",
    "two[1, 1] = 3\n",
    "one[1:-1, 1:-1] = two\n",
    "print(one)"
   ]
  },
  {
   "cell_type": "code",
   "execution_count": 13,
   "metadata": {},
   "outputs": [
    {
     "name": "stdout",
     "output_type": "stream",
     "text": [
      "[[1 1 3 1 1]\n",
      " [1 2 3 2 1]\n",
      " [1 2 3 2 1]\n",
      " [1 2 3 2 1]\n",
      " [1 1 3 1 1]]\n"
     ]
    }
   ],
   "source": [
    "one[0:5, 2] = 3\n",
    "print(one)"
   ]
  },
  {
   "cell_type": "code",
   "execution_count": null,
   "metadata": {},
   "outputs": [],
   "source": []
  }
 ],
 "metadata": {
  "kernelspec": {
   "display_name": "Python 3",
   "language": "python",
   "name": "python3"
  },
  "language_info": {
   "codemirror_mode": {
    "name": "ipython",
    "version": 3
   },
   "file_extension": ".py",
   "mimetype": "text/x-python",
   "name": "python",
   "nbconvert_exporter": "python",
   "pygments_lexer": "ipython3",
   "version": "3.7.4"
  }
 },
 "nbformat": 4,
 "nbformat_minor": 2
}
